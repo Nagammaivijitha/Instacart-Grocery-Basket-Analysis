{
 "cells": [
  {
   "cell_type": "markdown",
   "id": "e2213708",
   "metadata": {},
   "source": [
    "# 01. Importing Libraries"
   ]
  },
  {
   "cell_type": "code",
   "execution_count": 6,
   "id": "9d696576",
   "metadata": {},
   "outputs": [],
   "source": [
    "# Import libraries\n",
    "import pandas as pd\n",
    "import numpy as np\n",
    "import os"
   ]
  },
  {
   "cell_type": "code",
   "execution_count": 9,
   "id": "d6d4e67f",
   "metadata": {},
   "outputs": [],
   "source": [
    "x = 68"
   ]
  },
  {
   "cell_type": "code",
   "execution_count": 10,
   "id": "fb6345ce",
   "metadata": {},
   "outputs": [
    {
     "name": "stdout",
     "output_type": "stream",
     "text": [
      "68\n"
     ]
    }
   ],
   "source": [
    "print (x)"
   ]
  },
  {
   "cell_type": "code",
   "execution_count": 11,
   "id": "cca2d793",
   "metadata": {},
   "outputs": [
    {
     "data": {
      "text/plain": [
       "100"
      ]
     },
     "execution_count": 11,
     "metadata": {},
     "output_type": "execute_result"
    }
   ],
   "source": [
    "x + 32"
   ]
  },
  {
   "cell_type": "code",
   "execution_count": 12,
   "id": "ee604f3d",
   "metadata": {},
   "outputs": [],
   "source": [
    "y = 32"
   ]
  },
  {
   "cell_type": "code",
   "execution_count": 13,
   "id": "2fed88c3",
   "metadata": {},
   "outputs": [
    {
     "name": "stdout",
     "output_type": "stream",
     "text": [
      "32\n"
     ]
    }
   ],
   "source": [
    "print (y)"
   ]
  },
  {
   "cell_type": "code",
   "execution_count": 14,
   "id": "688000fa",
   "metadata": {},
   "outputs": [
    {
     "data": {
      "text/plain": [
       "100"
      ]
     },
     "execution_count": 14,
     "metadata": {},
     "output_type": "execute_result"
    }
   ],
   "source": [
    "x + y"
   ]
  },
  {
   "cell_type": "code",
   "execution_count": 15,
   "id": "2374a153",
   "metadata": {},
   "outputs": [],
   "source": [
    "A = 110"
   ]
  },
  {
   "cell_type": "code",
   "execution_count": 16,
   "id": "1446aa50",
   "metadata": {},
   "outputs": [
    {
     "name": "stdout",
     "output_type": "stream",
     "text": [
      "110\n"
     ]
    }
   ],
   "source": [
    "print (A)"
   ]
  },
  {
   "cell_type": "code",
   "execution_count": 24,
   "id": "44bce503",
   "metadata": {},
   "outputs": [
    {
     "data": {
      "text/plain": [
       "100"
      ]
     },
     "execution_count": 24,
     "metadata": {},
     "output_type": "execute_result"
    }
   ],
   "source": [
    "A -10"
   ]
  },
  {
   "cell_type": "code",
   "execution_count": 25,
   "id": "17c41b42",
   "metadata": {},
   "outputs": [],
   "source": [
    "B = 96.23"
   ]
  },
  {
   "cell_type": "code",
   "execution_count": 26,
   "id": "7fbc3c8c",
   "metadata": {},
   "outputs": [],
   "source": [
    "C = 3.33"
   ]
  },
  {
   "cell_type": "code",
   "execution_count": 27,
   "id": "a8f076e8",
   "metadata": {},
   "outputs": [
    {
     "data": {
      "text/plain": [
       "28.8978978978979"
      ]
     },
     "execution_count": 27,
     "metadata": {},
     "output_type": "execute_result"
    }
   ],
   "source": [
    "B / C"
   ]
  },
  {
   "cell_type": "code",
   "execution_count": 28,
   "id": "15f57bd1",
   "metadata": {},
   "outputs": [],
   "source": [
    "D = 'Welcome,'"
   ]
  },
  {
   "cell_type": "code",
   "execution_count": 29,
   "id": "e3fd6a0b",
   "metadata": {},
   "outputs": [],
   "source": [
    "E = 'Nagammai'"
   ]
  },
  {
   "cell_type": "code",
   "execution_count": 30,
   "id": "c9604ad2",
   "metadata": {
    "scrolled": true
   },
   "outputs": [
    {
     "data": {
      "text/plain": [
       "'Welcome,Nagammai'"
      ]
     },
     "execution_count": 30,
     "metadata": {},
     "output_type": "execute_result"
    }
   ],
   "source": [
    "D + E"
   ]
  },
  {
   "cell_type": "code",
   "execution_count": 47,
   "id": "95457331",
   "metadata": {},
   "outputs": [],
   "source": [
    "F = 'I wish to become Data analyst,'"
   ]
  },
  {
   "cell_type": "code",
   "execution_count": 48,
   "id": "0094119c",
   "metadata": {},
   "outputs": [],
   "source": [
    "G = 'to achieve my goal'"
   ]
  },
  {
   "cell_type": "code",
   "execution_count": 49,
   "id": "c7dae4e1",
   "metadata": {},
   "outputs": [
    {
     "data": {
      "text/plain": [
       "'I wish to become Data analyst,to achieve my goal'"
      ]
     },
     "execution_count": 49,
     "metadata": {},
     "output_type": "execute_result"
    }
   ],
   "source": [
    "F + G"
   ]
  },
  {
   "cell_type": "code",
   "execution_count": 56,
   "id": "1684684d",
   "metadata": {},
   "outputs": [],
   "source": [
    "H = 'Work hard '"
   ]
  },
  {
   "cell_type": "code",
   "execution_count": 57,
   "id": "e2b0c42c",
   "metadata": {},
   "outputs": [],
   "source": [
    "I = 'success is behind you'"
   ]
  },
  {
   "cell_type": "code",
   "execution_count": 58,
   "id": "c2413083",
   "metadata": {},
   "outputs": [
    {
     "data": {
      "text/plain": [
       "'Work hard success is behind you'"
      ]
     },
     "execution_count": 58,
     "metadata": {},
     "output_type": "execute_result"
    }
   ],
   "source": [
    "H + I"
   ]
  },
  {
   "cell_type": "code",
   "execution_count": 7,
   "id": "fdc841c9",
   "metadata": {},
   "outputs": [],
   "source": [
    "J = 'winner!'"
   ]
  },
  {
   "cell_type": "code",
   "execution_count": 8,
   "id": "f1341ec7",
   "metadata": {},
   "outputs": [
    {
     "data": {
      "text/plain": [
       "'winner!winner!winner!winner!winner!winner!winner!winner!winner!winner!winner!winner!winner!winner!winner!winner!winner!winner!winner!winner!winner!winner!winner!winner!winner!winner!winner!winner!winner!winner!winner!winner!winner!winner!winner!winner!winner!winner!winner!winner!winner!winner!winner!winner!winner!winner!winner!winner!winner!winner!winner!winner!winner!winner!winner!winner!winner!winner!winner!winner!winner!winner!winner!winner!winner!winner!winner!winner!winner!winner!winner!winner!winner!winner!winner!winner!winner!winner!winner!winner!winner!winner!winner!winner!winner!winner!winner!winner!winner!winner!winner!winner!winner!winner!winner!winner!winner!winner!winner!winner!'"
      ]
     },
     "execution_count": 8,
     "metadata": {},
     "output_type": "execute_result"
    }
   ],
   "source": [
    "J * 100"
   ]
  },
  {
   "cell_type": "code",
   "execution_count": 5,
   "id": "1f11265f",
   "metadata": {},
   "outputs": [],
   "source": [
    "K = 52"
   ]
  },
  {
   "cell_type": "code",
   "execution_count": 6,
   "id": "a851d91e",
   "metadata": {},
   "outputs": [
    {
     "data": {
      "text/plain": [
       "72"
      ]
     },
     "execution_count": 6,
     "metadata": {},
     "output_type": "execute_result"
    }
   ],
   "source": [
    "K + 20"
   ]
  },
  {
   "cell_type": "code",
   "execution_count": null,
   "id": "a9a6ca15",
   "metadata": {},
   "outputs": [],
   "source": []
  }
 ],
 "metadata": {
  "kernelspec": {
   "display_name": "Python 3 (ipykernel)",
   "language": "python",
   "name": "python3"
  },
  "language_info": {
   "codemirror_mode": {
    "name": "ipython",
    "version": 3
   },
   "file_extension": ".py",
   "mimetype": "text/x-python",
   "name": "python",
   "nbconvert_exporter": "python",
   "pygments_lexer": "ipython3",
   "version": "3.11.5"
  }
 },
 "nbformat": 4,
 "nbformat_minor": 5
}
